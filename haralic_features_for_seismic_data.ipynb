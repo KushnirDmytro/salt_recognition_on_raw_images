{
 "cells": [
  {
   "cell_type": "code",
   "execution_count": 1,
   "metadata": {},
   "outputs": [],
   "source": [
    "# Import the otb applications package\n",
    "import otbApplication\n",
    "import os\n",
    "# Import lib for operating with multichannel image format\n",
    "from libtiff import TIFF\n",
    "from PIL import Image\n",
    "from matplotlib import pyplot as plt\n",
    "import numpy as np\n"
   ]
  },
  {
   "cell_type": "code",
   "execution_count": 2,
   "metadata": {},
   "outputs": [],
   "source": [
    "SIMPLE_FEATURES_TAGS = [\n",
    "\"Energy (texture uniformity)\",\n",
    "\"Entropy (measure of randomness of intensity image)\", \n",
    "\"Correlation (how correlated a pixel is to its neighborhood)\",\n",
    "\"Inverse Difference Moment (measures the texture homogeneity)\",\n",
    "\"Inertia (intensity contrast between a pixel and its neighborhood)\", \n",
    "\"Cluster Shade\", \n",
    "\"Cluster Prominence\", \n",
    "\"Haralick Correlation\"]\n",
    "\n",
    "ADVANCED_FEATURES_TAGS = [\n",
    "'Mean', \n",
    "'Variance (measures the texture heterogeneity)', \n",
    "'Dissimilarity',\n",
    "'Sum Average', \n",
    "'Sum Variance', \n",
    "'Sum Entropy', \n",
    "'Difference of Entropies', \n",
    "'Difference of Variances', \n",
    "'IC', \n",
    "'IC2']\n",
    "\n",
    "HIGHER_FEATURES_TAGS = [\n",
    "'Short Run Emphasis (measures the texture sharpness)', \n",
    "'Long Run Emphasis (measures the texture roughness)', \n",
    "'Grey-Level Nonuniformity', \n",
    "'Run Length Nonuniformity', \n",
    "'Run Percentage (measures the texture sharpness homogeneity)',\n",
    "'Low Grey-Level Run Emphasis', \n",
    "'High Grey-Level Run Emphasis', \n",
    "'Short Run Low Grey-Level Emphasis', \n",
    "'Short Run High Grey-Level Emphasis',\n",
    "'Long Run Low Grey-Level Emphasis',\n",
    "'Long Run High Grey-Level Emphasis']\n",
    "\n",
    "def get_input_img(infile_name):\n",
    "#     print(infile_name)\n",
    "    extension = infile_name.split('.')[-1]\n",
    "    if extension in ['tif', 'tiff']:\n",
    "        img = TIFF.open(infile, mode='r').read_image()\n",
    "    else:\n",
    "        img = Image.open(infile_name)\n",
    "    return img\n",
    "\n",
    "        \n",
    "\n",
    "\n",
    "\n",
    "def extract_haralic(infile_name,\n",
    "                    outfile_name=\"HaralickTextures.tif\",\n",
    "                    channel=1,\n",
    "                    xrad=3,\n",
    "                    yrad=3,\n",
    "                    xoff=1,\n",
    "                    yoff=1,\n",
    "                    nbbin = 10,\n",
    "                    textures='simple', \n",
    "                   to_plot=False):\n",
    "    \n",
    "    ALLOWED_TEXUTRE_VALUES = ['simple', 'advanced', 'higher']\n",
    "    \n",
    "    img = get_input_img(infile_name)\n",
    "    if to_plot:\n",
    "        plt.figure(figsize=figure_size)\n",
    "        plt.imshow(img)\n",
    "        plt.show()\n",
    "    \n",
    "    if not textures in ALLOWED_TEXUTRE_VALUES:\n",
    "        raise ValueError(f\"'textures' must be in {allowed_texture_values}\")\n",
    "    # The following line creates an instance of the HaralickTextureExtraction application\n",
    "    HaralickTextureExtraction = otbApplication.Registry.CreateApplication(\"HaralickTextureExtraction\")\n",
    "    \n",
    "    HaralickTextureExtraction.SetParameterString(\"in\", infile_name)\n",
    "    \n",
    "    HaralickTextureExtraction.SetParameterInt(\"channel\", channel) # index of channel from which we process data (R-G-B, choose one to make gray)\n",
    "    HaralickTextureExtraction.SetParameterInt(\"parameters.xrad\", xrad)  # corresponds to size of 'texture probe'\n",
    "    HaralickTextureExtraction.SetParameterInt(\"parameters.yrad\", yrad)\n",
    "    \n",
    "    \n",
    "    HaralickTextureExtraction.SetParameterInt(\"parameters.xoff\", xoff)  # offset when calculating features (possible not for exact neigbours)\n",
    "    HaralickTextureExtraction.SetParameterInt(\"parameters.yoff\", yoff)\n",
    "    \n",
    "    \n",
    "    HaralickTextureExtraction.SetParameterInt(\"parameters.min\", 0)\n",
    "    HaralickTextureExtraction.SetParameterInt(\"parameters.max\", 512)\n",
    "    \n",
    "    HaralickTextureExtraction.SetParameterInt(\"parameters.nbbin\", nbbin)\n",
    "\n",
    "    HaralickTextureExtraction.SetParameterString(\"texture\", textures)\n",
    "\n",
    "    HaralickTextureExtraction.SetParameterString(\"out\", os.path.join('output',outfile_name))\n",
    "    # The following line execute the application\n",
    "    HaralickTextureExtraction.ExecuteAndWriteOutput()\n",
    "    return img"
   ]
  },
  {
   "cell_type": "markdown",
   "metadata": {},
   "source": [
    "# UTILS "
   ]
  },
  {
   "cell_type": "code",
   "execution_count": 3,
   "metadata": {},
   "outputs": [],
   "source": [
    "FIGSIZE = (20,20)\n",
    "def plot_haralic_features(infile=\"HaralickTextures.tif\",\n",
    "                         channels='all', \n",
    "                            textures_mode = \"simple\",\n",
    "                         blend_channels=False, \n",
    "                         to_plot=False):\n",
    "    \n",
    "    print(to_plot)\n",
    "    \n",
    "    tif = TIFF.open(infile, mode='r')\n",
    "    # read an image in the currect TIFF directory as a numpy array\n",
    "    AVAILABLE_TEXTURE_MODS = ['simple', 'advanced', 'higher']\n",
    "    AVAILABLE_TEXTURE_TAGS = {'simple' : SIMPLE_FEATURES_TAGS,\n",
    "                              'advanced' : ADVANCED_FEATURES_TAGS,\n",
    "                              'higher' : HIGHER_FEATURES_TAGS} \n",
    "    \n",
    "    if not textures_mode in AVAILABLE_TEXTURE_MODS:\n",
    "        raise ValueError(f\"'textures_mode' should be one of {AVAILABLE_TEXTURE_MODS}, but found {texture_mode}\")\n",
    "    texture_tags = AVAILABLE_TEXTURE_TAGS[textures_mode]\n",
    "    \n",
    "    image = tif.read_image()\n",
    "    if channels == 'all':\n",
    "        indices = range(image.shape[2])\n",
    "    else:\n",
    "        indices = channels\n",
    "        \n",
    "    images = []\n",
    "    if blend_channels:\n",
    "        if not len(channels) in [1,3]:\n",
    "            raise ValueError(f\"'channels' when 'blend_channels' should have len 1 or 3, but found {len(channels)}\")\n",
    "        else:\n",
    "            channel = image[:,:,channels]\n",
    "            images.append(channel)\n",
    "            if to_plot:\n",
    "                plt.figure(figsize=FIGSIZE)\n",
    "                plt.imshow(to_plot)\n",
    "                plt.show()\n",
    "    else:\n",
    "        for indx in indices:\n",
    "            images.append(image[:,:,indx])\n",
    "            if to_plot:\n",
    "                plt.imshow(image[:,:,indx])\n",
    "                plt.title(texture_tags[indx])\n",
    "                plt.show()\n",
    "    return images\n",
    "\n",
    "\n",
    "def plot_pair(im1, im2, title=''):\n",
    "    fig = plt.figure(figsize=(10,10))\n",
    "    a=fig.add_subplot(1,2,1)\n",
    "    imgplot = plt.imshow(im1)\n",
    "    a=fig.add_subplot(1,2,2)\n",
    "    imgplot = plt.imshow(im2)\n",
    "    plt.title(title)\n",
    "    plt.show()"
   ]
  },
  {
   "cell_type": "code",
   "execution_count": 4,
   "metadata": {},
   "outputs": [],
   "source": [
    "textures_mode = 'simple'"
   ]
  },
  {
   "cell_type": "code",
   "execution_count": null,
   "metadata": {},
   "outputs": [],
   "source": []
  },
  {
   "cell_type": "code",
   "execution_count": 5,
   "metadata": {},
   "outputs": [
    {
     "name": "stdout",
     "output_type": "stream",
     "text": [
      "1c41821d13_simple.tiff\n",
      "False\n",
      "Homogenity mean [0.1573486328125]\n"
     ]
    }
   ],
   "source": [
    "FIGSIZE = (10,10)\n",
    "f_name = '1c41821d13.png'\n",
    "nb = 100\n",
    "rad = 3\n",
    "infile = os.path.join('my_examples', f_name)\n",
    "outfile_name = ''.join(infile.split('/')[-1].split('.')[:-1]) + '_' + textures_mode + '.tiff'\n",
    "print(outfile_name)\n",
    "textures_mode = 'simple'\n",
    "raw_im = extract_haralic(infile_name=infile,\n",
    "                outfile_name=outfile_name,\n",
    "                    channel=1,\n",
    "                    nbbin = nb,\n",
    "                    xrad=rad,\n",
    "                    yrad=rad,\n",
    "                    textures=textures_mode)\n",
    "resulting_im = plot_haralic_features(infile=os.path.join('output', outfile_name),\n",
    "                    channels='all',\n",
    "                    textures_mode = textures_mode,\n",
    "                    blend_channels=False)\n",
    "print(f'Homogenity mean [{np.mean(resulting_im[0], dtype=np.float16)}]')"
   ]
  },
  {
   "cell_type": "code",
   "execution_count": null,
   "metadata": {},
   "outputs": [],
   "source": []
  },
  {
   "cell_type": "code",
   "execution_count": 6,
   "metadata": {},
   "outputs": [
    {
     "data": {
      "image/png": "[encoded data removed]",
      "text/plain": [
       "<Figure size 432x288 with 1 Axes>"
      ]
     },
     "metadata": {
      "needs_background": "light"
     },
     "output_type": "display_data"
    },
    {
     "data": {
      "image/png": "[encoded data removed]",
      "text/plain": [
       "<Figure size 432x288 with 1 Axes>"
      ]
     },
     "metadata": {
      "needs_background": "light"
     },
     "output_type": "display_data"
    },
    {
     "data": {
      "image/png": "[encoded data removed]",
      "text/plain": [
       "<Figure size 432x288 with 1 Axes>"
      ]
     },
     "metadata": {
      "needs_background": "light"
     },
     "output_type": "display_data"
    },
    {
     "data": {
      "image/png": "[encoded data removed]",
      "text/plain": [
       "<Figure size 432x288 with 1 Axes>"
      ]
     },
     "metadata": {
      "needs_background": "light"
     },
     "output_type": "display_data"
    }
   ],
   "source": [
    "plt.imshow(raw_im)\n",
    "plt.show()\n",
    "normed = resulting_im[1] / np.max(resulting_im[1]) \n",
    "plt.imshow(normed)\n",
    "plt.title('Entropy feature')\n",
    "plt.show()\n",
    "plt.imshow(\n",
    "#     (resulting_im[0] + resulting_im[3] / np.max(resulting_im[3] ) ) /2 < 0.5 , cmap = 'gray')\n",
    " normed < 0.6, cmap = 'gray')\n",
    "plt.title('treashhold_mask')\n",
    "plt.show()\n",
    "infile_name = os.path.join('my_examples', 'mask_1c41821d13.png')\n",
    "ground_truth = get_input_img(infile_name)\n",
    "plt.imshow(ground_truth , cmap = 'gray')\n",
    "plt.title('ground_truth')\n",
    "plt.show()"
   ]
  },
  {
   "cell_type": "code",
   "execution_count": 7,
   "metadata": {},
   "outputs": [],
   "source": [
    "example_images = os.listdir('../data/train/images')\n"
   ]
  },
  {
   "cell_type": "code",
   "execution_count": null,
   "metadata": {},
   "outputs": [],
   "source": []
  },
  {
   "cell_type": "code",
   "execution_count": 11,
   "metadata": {},
   "outputs": [],
   "source": [
    "\n",
    "from tqdm import tqdm as tqdm"
   ]
  },
  {
   "cell_type": "code",
   "execution_count": 9,
   "metadata": {},
   "outputs": [],
   "source": [
    "FIGSIZE = (10,10)\n",
    "nb = 100\n",
    "rad = 3"
   ]
  },
  {
   "cell_type": "code",
   "execution_count": 12,
   "metadata": {},
   "outputs": [
    {
     "name": "stderr",
     "output_type": "stream",
     "text": [
      "100%|██████████| 4000/4000 [08:59<00:00,  7.87it/s]\n"
     ]
    }
   ],
   "source": [
    "textures_mode = 'simple'\n",
    "outdir = 'har_out_' + textures_mode\n",
    "\n",
    "if not os.path.exists(os.path.join('output', outdir) ):\n",
    "    os.makedirs(os.path.join('output', outdir) )\n",
    "\n",
    "for f_name in tqdm(example_images):\n",
    "    infile = os.path.join('../data/train/images', f_name)\n",
    "    outfile_name = ''.join(infile.split('/')[-1].split('.')[:-1]) + '_' + textures_mode + '.tiff'\n",
    "    \n",
    "    \n",
    "    outfile_name = os.path.join(outdir, outfile_name)\n",
    "    \n",
    "    raw_im = extract_haralic(infile_name=infile,\n",
    "            outfile_name=outfile_name,\n",
    "                channel=1, #black&white images \n",
    "                nbbin = nb,\n",
    "                xrad=rad,\n",
    "                yrad=rad,\n",
    "                textures=textures_mode)\n"
   ]
  },
  {
   "cell_type": "code",
   "execution_count": 13,
   "metadata": {},
   "outputs": [
    {
     "name": "stderr",
     "output_type": "stream",
     "text": [
      "100%|██████████| 4000/4000 [17:11<00:00,  4.05it/s]\n"
     ]
    }
   ],
   "source": [
    "textures_mode = 'advanced'\n",
    "outdir = 'har_out_' + textures_mode\n",
    "\n",
    "if not os.path.exists(os.path.join('output', outdir) ):\n",
    "    os.makedirs(os.path.join('output', outdir) )\n",
    "\n",
    "for f_name in tqdm(example_images):\n",
    "    infile = os.path.join('../data/train/images', f_name)\n",
    "    outfile_name = ''.join(infile.split('/')[-1].split('.')[:-1]) + '_' + textures_mode + '.tiff'\n",
    "    \n",
    "    \n",
    "    outfile_name = os.path.join(outdir, outfile_name)\n",
    "    \n",
    "    raw_im = extract_haralic(infile_name=infile,\n",
    "            outfile_name=outfile_name,\n",
    "                channel=1, #black&white images \n",
    "                nbbin = nb,\n",
    "                xrad=rad,\n",
    "                yrad=rad,\n",
    "                textures=textures_mode)\n"
   ]
  },
  {
   "cell_type": "code",
   "execution_count": 14,
   "metadata": {},
   "outputs": [
    {
     "name": "stderr",
     "output_type": "stream",
     "text": [
      "100%|██████████| 4000/4000 [36:09<00:00,  1.82it/s]\n"
     ]
    }
   ],
   "source": [
    "textures_mode = 'higher'\n",
    "outdir = 'har_out_' + textures_mode\n",
    "\n",
    "if not os.path.exists(os.path.join('output', outdir) ):\n",
    "    os.makedirs(os.path.join('output', outdir) )\n",
    "\n",
    "for f_name in tqdm(example_images):\n",
    "    infile = os.path.join('../data/train/images', f_name)\n",
    "    outfile_name = ''.join(infile.split('/')[-1].split('.')[:-1]) + '_' + textures_mode + '.tiff'\n",
    "    \n",
    "    \n",
    "    outfile_name = os.path.join(outdir, outfile_name)\n",
    "    \n",
    "    raw_im = extract_haralic(infile_name=infile,\n",
    "            outfile_name=outfile_name,\n",
    "                channel=1, #black&white images \n",
    "                nbbin = nb,\n",
    "                xrad=rad,\n",
    "                yrad=rad,\n",
    "                textures=textures_mode)\n"
   ]
  },
  {
   "cell_type": "code",
   "execution_count": null,
   "metadata": {},
   "outputs": [],
   "source": [
    "# TODO get small subset of all features 200 images a.e.\n",
    "# Train model on those example and evaluate best of them "
   ]
  },
  {
   "cell_type": "code",
   "execution_count": null,
   "metadata": {},
   "outputs": [],
   "source": [
    "outfile_name"
   ]
  },
  {
   "cell_type": "code",
   "execution_count": null,
   "metadata": {},
   "outputs": [],
   "source": [
    "resulting_im = plot_haralic_features(infile=os.path.join('output', outfile_name),\n",
    "                    channels='all',\n",
    "                    textures_mode = textures_mode,\n",
    "                    blend_channels=False)"
   ]
  },
  {
   "cell_type": "code",
   "execution_count": null,
   "metadata": {},
   "outputs": [],
   "source": [
    "len(resulting_im)"
   ]
  },
  {
   "cell_type": "code",
   "execution_count": null,
   "metadata": {},
   "outputs": [],
   "source": [
    "for i in range(8):\n",
    "    plt.imshow(raw_im)\n",
    "    plt.show()\n",
    "    normed = resulting_im[i] / np.max(resulting_im[i]) \n",
    "    plt.imshow(normed)\n",
    "    plt.title('Entropy feature')\n",
    "    plt.show()\n",
    "    plt.imshow(\n",
    "    #     (resulting_im[0] + resulting_im[3] / np.max(resulting_im[3] ) ) /2 < 0.5 , cmap = 'gray')\n",
    "     normed < 0.9, cmap = 'gray')\n",
    "    plt.title('treashhold_mask')\n",
    "    plt.show()\n",
    "# infile_name = os.path.join('my_examples', 'mask_1c41821d13.png')\n",
    "# ground_truth = get_input_img(infile_name)\n",
    "# plt.imshow(ground_truth , cmap = 'gray')\n",
    "# plt.title('ground_truth')\n",
    "# plt.show()"
   ]
  },
  {
   "cell_type": "code",
   "execution_count": null,
   "metadata": {},
   "outputs": [],
   "source": []
  }
 ],
 "metadata": {
  "kernelspec": {
   "display_name": "Python 3",
   "language": "python",
   "name": "python3"
  },
  "language_info": {
   "codemirror_mode": {
    "name": "ipython",
    "version": 3
   },
   "file_extension": ".py",
   "mimetype": "text/x-python",
   "name": "python",
   "nbconvert_exporter": "python",
   "pygments_lexer": "ipython3",
   "version": "3.7.0"
  }
 },
 "nbformat": 4,
 "nbformat_minor": 2
}
